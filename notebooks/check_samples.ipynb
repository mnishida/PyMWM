{
 "cells": [
  {
   "cell_type": "code",
   "execution_count": null,
   "metadata": {},
   "outputs": [],
   "source": [
    "from scipy.constants import c\n",
    "import pymwm\n",
    "params = {'core': {'shape': 'cylinder', 'size': 0.15,\n",
    "                   'fill': {'RI': 1.333}},\n",
    "          'clad': {'model': 'gold_dl', 'im_factor': 1.0},\n",
    "          'bounds': {'wl_max': 1.2, 'wl_min': 0.545,\n",
    "                     'wl_imag': 6.0},  # conditions for use\n",
    "          'modes': {'num_n': 6, 'num_m': 2, 'wl_min': 0.5, 'wl_max': 1.2,\n",
    "                    'wl_imag': 6.0}}  # sampling setting for database\n",
    "wg = pymwm.create(params)  # It takes hours for the first time"
   ]
  },
  {
   "cell_type": "code",
   "execution_count": null,
   "metadata": {},
   "outputs": [],
   "source": [
    "wg.alphas"
   ]
  },
  {
   "cell_type": "code",
   "execution_count": null,
   "metadata": {},
   "outputs": [],
   "source": [
    "betas, convs, samples = wg.betas_convs_samples(params)\n",
    "samples.plot_convs(convs, ('M', 3, 1))\n",
    "samples.plot_real_betas(betas, ('M', 3, 1))\n",
    "samples.plot_imag_betas(betas, ('M', 3, 1))\n"
   ]
  },
  {
   "cell_type": "code",
   "execution_count": null,
   "metadata": {},
   "outputs": [],
   "source": [
    "import numpy as np\n",
    "import matplotlib.pyplot as plt\n",
    "x, y = np.meshgrid(samples.ws, samples.wis, indexing='ij')\n",
    "ws = x + 1j * y\n",
    "es = np.array([samples.clad(w) for w in ws.ravel()]).reshape(ws.shape)\n",
    "zr = samples.v(betas[('M', 3, 1)] ** 2, ws, es).real\n",
    "zi = samples.v(betas[('M', 3, 1)] ** 2, ws, es).imag\n",
    "plt.pcolormesh(x, y, np.abs(zr) > np.abs(zi), shading=\"gouraud\")\n",
    "plt.colorbar()\n",
    "plt.show()\n"
   ]
  }
 ],
 "metadata": {
  "kernelspec": {
   "display_name": "Python 3.8.10 64-bit ('ray': conda)",
   "name": "ray"
  },
  "language_info": {
   "codemirror_mode": {
    "name": "ipython",
    "version": 3
   },
   "file_extension": ".py",
   "mimetype": "text/x-python",
   "name": "python",
   "nbconvert_exporter": "python",
   "pygments_lexer": "ipython3",
   "version": "3.8.8"
  }
 },
 "nbformat": 4,
 "nbformat_minor": 4
}
