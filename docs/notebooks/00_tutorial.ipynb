{
 "cells": [
  {
   "cell_type": "markdown",
   "metadata": {},
   "source": [
    "# Tutorial\n",
    "$$\\int_0^\\infty \\sin(x)\\mathrm{d}x$$"
   ]
  },
  {
   "cell_type": "code",
   "execution_count": null,
   "metadata": {
    "tags": []
   },
   "outputs": [],
   "source": [
    "\n",
    "import matplotlib.pyplot as plt\n",
    "from IPython.display import display\n",
    "import pymwm\n",
    "plt.style.use('seaborn-notebook')\n",
    "plot_params = {\n",
    "    'figure.dpi': 96,\n",
    "    # 'figure.figsize': [8.0, 6.0],\n",
    "    'axes.labelsize': 'xx-large',\n",
    "    'xtick.labelsize': 'x-large',\n",
    "    'ytick.labelsize': 'x-large',\n",
    "    'legend.fontsize': 'large',\n",
    "    'savefig.bbox': 'tight',\n",
    "    'savefig.pad_inches': 0.03,\n",
    "}\n",
    "plt.rcParams.update(plot_params)"
   ]
  },
  {
   "cell_type": "code",
   "execution_count": null,
   "metadata": {},
   "outputs": [],
   "source": [
    "wl_max = 1.0\n",
    "wl_min = 0.5\n",
    "water = {'RI': 1.333}\n",
    "params = {'core': {'shape': 'cylinder', 'size': 0.15,\n",
    "                   'fill': water},\n",
    "          'clad': {'model': 'gold_dl'},\n",
    "          'bounds': {'wl_max': wl_max, 'wl_min': wl_min, 'wl_imag': 10.0},\n",
    "          'modes': {'num_n': 6, 'num_m': 2}}\n",
    "wg1 = pymwm.create(params)\n",
    "wg1.plot_beta(('E', 0, 1), \"-\", wl_max=wl_max, wl_min=wl_min, comp='real')\n",
    "wg1.plot_beta(('E', 1, 1), \"-\", wl_max=wl_max, wl_min=wl_min, comp='real')\n",
    "wg1.plot_beta(('E', 2, 1), \"-\", wl_max=wl_max, wl_min=wl_min, comp='real')\n",
    "wg1.plot_beta(('M', 0, 1), \"-\", wl_max=wl_max, wl_min=wl_min, comp='real')\n",
    "plt.show()\n",
    "wg1.plot_beta(('E', 0, 1), \"-\", wl_max=wl_max, wl_min=wl_min, comp='imag')\n",
    "wg1.plot_beta(('E', 1, 1), \"-\", wl_max=wl_max, wl_min=wl_min, comp='imag')\n",
    "wg1.plot_beta(('E', 2, 1), \"-\", wl_max=wl_max, wl_min=wl_min, comp='imag')\n",
    "wg1.plot_beta(('M', 0, 1), \"-\", wl_max=wl_max, wl_min=wl_min, comp='imag')\n",
    "plt.show()"
   ]
  },
  {
   "cell_type": "code",
   "execution_count": null,
   "metadata": {},
   "outputs": [],
   "source": [
    "wl = 0.6\n",
    "w = 2 * np.pi / wl\n",
    "wg1.plot_e_field(w, dir='v', alpha=('E', 0, 1))\n",
    "wg1.plot_e_field(w, dir='h', alpha=('E', 1, 1))\n",
    "wg1.plot_e_field(w, dir='h', alpha=('E', 2, 1))\n",
    "wg1.plot_e_field(w, dir='h', alpha=('E', 3, 1))\n",
    "wg1.plot_e_field(w, dir='h', alpha=('M', 0, 1))\n",
    "wg1.plot_e_field(w, dir='h', alpha=('M', 1, 1))"
   ]
  },
  {
   "cell_type": "code",
   "execution_count": null,
   "metadata": {},
   "outputs": [],
   "source": [
    "wl = 0.6\n",
    "w = 2 * np.pi / wl\n",
    "wg1.plot_h_field(w, dir='v', alpha=('E', 0, 1))\n",
    "wg1.plot_h_field(w, dir='h', alpha=('E', 1, 1))\n",
    "wg1.plot_h_field(w, dir='h', alpha=('E', 2, 1))\n",
    "wg1.plot_h_field(w, dir='h', alpha=('E', 3, 1))\n",
    "wg1.plot_h_field(w, dir='h', alpha=('M', 0, 1))\n",
    "wg1.plot_h_field(w, dir='h', alpha=('M', 1, 1))"
   ]
  },
  {
   "cell_type": "code",
   "execution_count": null,
   "metadata": {},
   "outputs": [],
   "source": [
    "wl = 0.6\n",
    "w = 2 * np.pi / wl\n",
    "wg1.plot_e_field_on_x_axis(w, dir='h', alpha=('E', 1, 1), comp='x')\n",
    "wg1.plot_h_field_on_x_axis(w, dir='h', alpha=('E', 1, 1), comp='y')"
   ]
  },
  {
   "cell_type": "code",
   "execution_count": null,
   "metadata": {},
   "outputs": [],
   "source": [
    "wl_max = 1.0\n",
    "wl_min = 0.5\n",
    "water = {'RI': 1.333}\n",
    "params = {'core': {'shape': 'slit', 'size': 0.15,\n",
    "                   'fill': water},\n",
    "          'clad': {'model': 'gold_dl'},\n",
    "          'bounds': {'wl_max': wl_max, 'wl_min': wl_min,\n",
    "                     'wl_imag': 10.0},\n",
    "          'modes': {'num_n': 6}}\n",
    "wg2 = pymwm.create(params)\n",
    "wg2.plot_beta(('E', 1, 1), \"-\", wl_max=wl_max, wl_min=wl_min, comp='real')\n",
    "wg2.plot_beta(('M', 0, 1), \"-\", wl_max=wl_max, wl_min=wl_min, comp='real')\n",
    "wg2.plot_beta(('M', 1, 1), \"-\", wl_max=wl_max, wl_min=wl_min, comp='real')\n",
    "plt.show()\n",
    "wg2.plot_beta(('E', 1, 1), \"-\", wl_max=wl_max, wl_min=wl_min, comp='imag')\n",
    "wg2.plot_beta(('M', 0, 1), \"-\", wl_max=wl_max, wl_min=wl_min, comp='imag')\n",
    "wg2.plot_beta(('M', 1, 1), \"-\", wl_max=wl_max, wl_min=wl_min, comp='imag')\n",
    "plt.show()"
   ]
  },
  {
   "cell_type": "code",
   "execution_count": null,
   "metadata": {},
   "outputs": [],
   "source": [
    "wl = 0.6\n",
    "w = 2 * np.pi / wl\n",
    "wg2.plot_e_field(w, dir='v', alpha=('E', 1, 1))\n",
    "wg2.plot_e_field(w, dir='h', alpha=('M', 0, 1))\n",
    "wg2.plot_e_field(w, dir='h', alpha=('M', 1, 1))"
   ]
  },
  {
   "cell_type": "code",
   "execution_count": null,
   "metadata": {},
   "outputs": [],
   "source": [
    "wl = 0.6\n",
    "w = 2 * np.pi / wl\n",
    "wg2.plot_h_field(w, dir='v', alpha=('E', 1, 1))\n",
    "wg2.plot_h_field(w, dir='h', alpha=('M', 0, 1))\n",
    "wg2.plot_h_field(w, dir='h', alpha=('M', 1, 1))"
   ]
  },
  {
   "cell_type": "code",
   "execution_count": null,
   "metadata": {},
   "outputs": [],
   "source": [
    "wl = 0.6\n",
    "w = 2 * np.pi / wl\n",
    "wg2.plot_e_field_on_x_axis(w, dir='h', alpha=('M', 0, 1), comp='x')\n",
    "wg2.plot_h_field_on_x_axis(w, dir='h', alpha=('M', 0, 1), comp='y')"
   ]
  }
 ],
 "metadata": {
  "interpreter": {
   "hash": "9d79d0f0957b739e22ce83622b13faf5fa51320166aa3ff5bb1c643ddfc68e3b"
  },
  "kernelspec": {
   "display_name": "Python 3.8.11 64-bit ('pymwm': conda)",
   "name": "python3"
  },
  "language_info": {
   "codemirror_mode": {
    "name": "ipython",
    "version": 3
   },
   "file_extension": ".py",
   "mimetype": "text/x-python",
   "name": "python",
   "nbconvert_exporter": "python",
   "pygments_lexer": "ipython3",
   "version": "3.8.11"
  }
 },
 "nbformat": 4,
 "nbformat_minor": 4
}
