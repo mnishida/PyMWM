{
 "cells": [
  {
   "cell_type": "code",
   "execution_count": null,
   "id": "b22f3fff",
   "metadata": {},
   "outputs": [],
   "source": [
    "import numpy as np\n",
    "import scipy.special as sp\n",
    "import numpy.testing as npt\n",
    "import pymwm\n",
    "from pymwm.cutoff import Cutoff\n",
    "\n",
    "co = Cutoff(16, 8)"
   ]
  },
  {
   "cell_type": "code",
   "execution_count": null,
   "id": "59111857",
   "metadata": {},
   "outputs": [],
   "source": [
    "co(('E',1,2),0.5)"
   ]
  },
  {
   "cell_type": "code",
   "execution_count": null,
   "id": "a3cec2ff",
   "metadata": {},
   "outputs": [],
   "source": [
    "import matplotlib.pyplot as plt\n",
    "import numpy as np\n",
    "\n",
    "fig = plt.figure()\n",
    "\n",
    "#samples = []\n",
    "#for rr in range(100):\n",
    "#    sample = co.samples[rr][('E', 1, 2)]\n",
    "#    samples.append(sample)\n",
    "\n",
    "# for n in range(3):\n",
    "#     for m in range(3):\n",
    "#         samples = [s[('E', n, m+1)] for s in co.samples]\n",
    "#         plt.plot(co.r_ratios, samples, label=f\"E{n}{m+1}\")\n",
    "\n",
    "for n in range(16):\n",
    "    for m in range(8):\n",
    "        df = co.samples.query(f\"pol=='E' and n=={n} and m=={m+1}\")\n",
    "        plt.plot(df['rr'], df['val'], label=f\"E{n}{m+1}\")\n",
    "plt.legend(bbox_to_anchor=(1, 1), loc='upper left', borderaxespad=1, fontsize=7)\n",
    "\n",
    "plt.xlim(0,0.99)\n",
    "plt.ylim(0,100)\n",
    "\n",
    "#0.99まで有効"
   ]
  },
  {
   "cell_type": "code",
   "execution_count": null,
   "id": "77c4cd54",
   "metadata": {},
   "outputs": [],
   "source": [
    "df1 = co.samples.query(f\"pol=='E' and  n == 0 and m == 1\")\n",
    "df2 = co.samples.query(f\"pol=='E' and  n == 1 and m == 1\")\n",
    "display(df1)\n",
    "display(df2)\n",
    "display(df1['val'].to_numpy() - df2['val'].to_numpy())"
   ]
  },
  {
   "cell_type": "code",
   "execution_count": null,
   "id": "9416865e",
   "metadata": {},
   "outputs": [],
   "source": [
    "for m in range(7, 8):\n",
    "    for n in range(1, 15):\n",
    "        df1 = co.samples.query(f\"pol=='E' and n=={n} and m=={m+1}\")\n",
    "        df2 = co.samples.query(f\"pol=='E' and n=={n+1} and m=={m+1}\")\n",
    "        val_dif = df2['val'].to_numpy() - df1['val'].to_numpy()\n",
    "        plt.plot(df1['rr'], val_dif, \"--\", label=f\"E{n+1}{m+1}-E{n}{m+1}\")\n",
    "        \n",
    "plt.legend()\n",
    "\n",
    "plt.xlim(0.9,1)\n",
    "plt.ylim(0,0.1)"
   ]
  },
  {
   "cell_type": "code",
   "execution_count": null,
   "id": "7ee0b365",
   "metadata": {},
   "outputs": [],
   "source": [
    "import matplotlib.pyplot as plt\n",
    "import numpy as np\n",
    "\n",
    "fig = plt.figure()\n",
    "\n",
    "for n in range(16):\n",
    "    for m in range(8):\n",
    "        df = co.samples.query(f\"pol=='M' and n=={n} and m=={m+1}\")\n",
    "        plt.plot(df['rr'], df['val'], label=f\"M{n}{m+1}\")\n",
    "plt.legend(bbox_to_anchor=(1, 1), loc='upper left', borderaxespad=1, fontsize=7)\n",
    "\n",
    "plt.xlim(0,0.99)\n",
    "plt.ylim(0,100)\n",
    "\n",
    "#0.99まで有効"
   ]
  },
  {
   "cell_type": "code",
   "execution_count": null,
   "id": "d07c3799",
   "metadata": {},
   "outputs": [],
   "source": [
    "import pandas as pd\n",
    "df = pd.DataFrame()\n",
    "for i, (r_ratio, sample) in enumerate(zip(co.r_ratios, co.samples)):\n",
    "    for pol in ['E', 'M']:\n",
    "        for n in range(co.num_n):\n",
    "            for m in range(1, co.num_m + 1):\n",
    "                df = df.append({'irr': i, 'rr': r_ratio,\n",
    "                                'pol': pol, 'n': n, 'm': m, 'val': sample[(pol, n, m)]},\n",
    "                               ignore_index=True)\n",
    "df = df.astype({'irr': int, 'n': int, 'm': int})\n",
    "df.to_hdf(\"cutoff.h5\", \"cutoff\")"
   ]
  },
  {
   "cell_type": "code",
   "execution_count": null,
   "id": "8c7f87e4",
   "metadata": {},
   "outputs": [],
   "source": [
    "df = df.astype({'irr': int, 'n': int, 'm': int})"
   ]
  },
  {
   "cell_type": "code",
   "execution_count": null,
   "id": "27e0b17c",
   "metadata": {},
   "outputs": [],
   "source": [
    "import pandas as pd\n",
    "df=pd.read_hdf(\"cutoff.h5\")\n",
    "df.query(f\"irr==1 and pol=='E' and n==1 and m==1\")['val']*2"
   ]
  },
  {
   "cell_type": "code",
   "execution_count": null,
   "id": "e07f8039",
   "metadata": {},
   "outputs": [],
   "source": [
    "df"
   ]
  },
  {
   "cell_type": "markdown",
   "id": "5f879ac6",
   "metadata": {},
   "source": [
    "nの差をグラフで\n",
    "num_n num_m 大きめ(n16,m8)で試す"
   ]
  }
 ],
 "metadata": {
  "interpreter": {
   "hash": "a6860a8f1b193f4e3fb74fc939bad91a3802c9b41e258e3f476bc08ca9fd1882"
  },
  "kernelspec": {
   "display_name": "Python 3.8.8 64-bit ('ray': conda)",
   "name": "python3"
  },
  "language_info": {
   "codemirror_mode": {
    "name": "ipython",
    "version": 3
   },
   "file_extension": ".py",
   "mimetype": "text/x-python",
   "name": "python",
   "nbconvert_exporter": "python",
   "pygments_lexer": "ipython3",
   "version": "3.8.8"
  }
 },
 "nbformat": 4,
 "nbformat_minor": 5
}
