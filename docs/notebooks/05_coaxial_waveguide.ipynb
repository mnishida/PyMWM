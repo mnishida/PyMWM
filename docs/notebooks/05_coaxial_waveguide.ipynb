{
 "cells": [
  {
   "cell_type": "markdown",
   "id": "2e2d843c",
   "metadata": {},
   "source": [
    "# Coaxial Waveguide"
   ]
  },
  {
   "cell_type": "code",
   "execution_count": null,
   "id": "599b3820",
   "metadata": {},
   "outputs": [],
   "source": [
    "import numpy as np\n",
    "import scipy.special as sp\n",
    "import numpy.testing as npt\n",
    "import pymwm\n",
    "from pymwm.cutoff import Cutoff\n",
    "\n",
    "co = Cutoff(16, 8)"
   ]
  },
  {
   "cell_type": "code",
   "execution_count": null,
   "id": "624f6a05",
   "metadata": {},
   "outputs": [],
   "source": [
    "co(('E',1,2),0.5)"
   ]
  },
  {
   "cell_type": "code",
   "execution_count": null,
   "id": "1e97f1e0",
   "metadata": {},
   "outputs": [],
   "source": [
    "import matplotlib.pyplot as plt\n",
    "import numpy as np\n",
    "\n",
    "fig = plt.figure()\n",
    "\n",
    "#samples = []\n",
    "#for rr in range(100):\n",
    "#    sample = co.samples[rr][('E', 1, 2)]\n",
    "#    samples.append(sample)\n",
    "\n",
    "# for n in range(3):\n",
    "#     for m in range(3):\n",
    "#         samples = [s[('E', n, m+1)] for s in co.samples]\n",
    "#         plt.plot(co.r_ratios, samples, label=f\"E{n}{m+1}\")\n",
    "\n",
    "for n in range(16):\n",
    "    for m in range(8):\n",
    "        df = co.samples.query(f\"pol=='E' and n=={n} and m=={m+1}\")\n",
    "        plt.plot(df['rr'], df['val'], label=f\"E{n}{m+1}\")\n",
    "plt.legend(bbox_to_anchor=(1, 1), loc='upper left', borderaxespad=1, fontsize=7)\n",
    "\n",
    "plt.xlim(0,0.99)\n",
    "plt.ylim(0,100)\n",
    "\n",
    "#0.99まで有効"
   ]
  },
  {
   "cell_type": "code",
   "execution_count": null,
   "id": "3e126122",
   "metadata": {},
   "outputs": [],
   "source": [
    "df1 = co.samples.query(f\"pol=='E' and  n == 0 and m == 1\")\n",
    "df2 = co.samples.query(f\"pol=='E' and  n == 1 and m == 1\")\n",
    "display(df1)\n",
    "display(df2)\n",
    "display(df1['val'].to_numpy() - df2['val'].to_numpy())"
   ]
  },
  {
   "cell_type": "code",
   "execution_count": null,
   "id": "4a752695",
   "metadata": {},
   "outputs": [],
   "source": [
    "for m in range(7, 8):\n",
    "    for n in range(1, 15):\n",
    "        df1 = co.samples.query(f\"pol=='E' and n=={n} and m=={m+1}\")\n",
    "        df2 = co.samples.query(f\"pol=='E' and n=={n+1} and m=={m+1}\")\n",
    "        val_dif = df2['val'].to_numpy() - df1['val'].to_numpy()\n",
    "        plt.plot(df1['rr'], val_dif, \"--\", label=f\"E{n+1}{m+1}-E{n}{m+1}\")\n",
    "        \n",
    "plt.legend()\n",
    "\n",
    "plt.xlim(0.9,1)\n",
    "plt.ylim(0,0.1)"
   ]
  },
  {
   "cell_type": "code",
   "execution_count": null,
   "id": "72c02dd1",
   "metadata": {},
   "outputs": [],
   "source": [
    "import matplotlib.pyplot as plt\n",
    "import numpy as np\n",
    "\n",
    "fig = plt.figure()\n",
    "\n",
    "for n in range(16):\n",
    "    for m in range(8):\n",
    "        df = co.samples.query(f\"pol=='M' and n=={n} and m=={m+1}\")\n",
    "        plt.plot(df['rr'], df['val'], label=f\"M{n}{m+1}\")\n",
    "plt.legend(bbox_to_anchor=(1, 1), loc='upper left', borderaxespad=1, fontsize=7)\n",
    "\n",
    "plt.xlim(0,0.99)\n",
    "plt.ylim(0,100)\n",
    "\n",
    "#0.99まで有効"
   ]
  },
  {
   "cell_type": "code",
   "execution_count": null,
   "id": "01bb998b",
   "metadata": {},
   "outputs": [],
   "source": [
    "import pandas as pd\n",
    "df = pd.DataFrame()\n",
    "for i, (r_ratio, sample) in enumerate(zip(co.r_ratios, co.samples)):\n",
    "    for pol in ['E', 'M']:\n",
    "        for n in range(co.num_n):\n",
    "            for m in range(1, co.num_m + 1):\n",
    "                df = df.append({'irr': i, 'rr': r_ratio,\n",
    "                                'pol': pol, 'n': n, 'm': m, 'val': sample[(pol, n, m)]},\n",
    "                               ignore_index=True)\n",
    "df = df.astype({'irr': int, 'n': int, 'm': int})\n",
    "df.to_hdf(\"cutoff.h5\", \"cutoff\")"
   ]
  },
  {
   "cell_type": "code",
   "execution_count": null,
   "id": "49d97a7e",
   "metadata": {},
   "outputs": [],
   "source": [
    "df = df.astype({'irr': int, 'n': int, 'm': int})"
   ]
  },
  {
   "cell_type": "code",
   "execution_count": null,
   "id": "9a9ee4d1",
   "metadata": {},
   "outputs": [],
   "source": [
    "import pandas as pd\n",
    "df=pd.read_hdf(\"cutoff.h5\")\n",
    "df.query(f\"irr==1 and pol=='E' and n==1 and m==1\")['val']*2"
   ]
  },
  {
   "cell_type": "code",
   "execution_count": null,
   "id": "ba110082",
   "metadata": {},
   "outputs": [],
   "source": [
    "df"
   ]
  },
  {
   "cell_type": "markdown",
   "id": "e43a845e",
   "metadata": {},
   "source": [
    "nの差をグラフで\n",
    "num_n num_m 大きめ(n16,m8)で試す"
   ]
  },
  {
   "cell_type": "code",
   "execution_count": null,
   "id": "b38bd5bd",
   "metadata": {},
   "outputs": [],
   "source": [
    "import numpy as np\n",
    "import pymwm\n",
    "from pymwm.coax.samples import Samples\n",
    "from pyoptmat import Material\n",
    "\n",
    "wl_max = np.pi\n",
    "wl_min = 0.6\n",
    "air = {'RI': 1.0}\n",
    "params = {'core': {'shape': 'coax', 'ri': 0.45, 'r': 0.5,\n",
    "                   'fill': air},\n",
    "          'clad': {'model': 'gold_dl'},\n",
    "          'bounds': {'wl_max': wl_max, 'wl_min': wl_min,\n",
    "                     'wl_imag': 10.0},\n",
    "          'modes': {'wl_max': wl_max, 'num_n': 6, 'num_m': 2}}\n",
    "#wg = pymwm.create(params)\n",
    "p_fill = params['core']['fill'].copy()\n",
    "p_fill['bound_check'] = False\n",
    "p_clad = params['clad'].copy()\n",
    "p_clad['bound_check'] = False\n",
    "smp = Samples(\n",
    "    params['core']['r'], Material(p_fill), Material(p_clad), params['modes'],\n",
    "    params['core']['ri'])\n",
    "\n",
    "smp.beta2_w_min(1)"
   ]
  },
  {
   "cell_type": "code",
   "execution_count": null,
   "id": "12920577",
   "metadata": {},
   "outputs": [],
   "source": [
    "smp.clad(0.1)"
   ]
  }
 ],
 "metadata": {
  "interpreter": {
   "hash": "9d79d0f0957b739e22ce83622b13faf5fa51320166aa3ff5bb1c643ddfc68e3b"
  },
  "kernelspec": {
   "display_name": "Python 3.8.11 64-bit ('pymwm': conda)",
   "name": "python3"
  },
  "language_info": {
   "codemirror_mode": {
    "name": "ipython",
    "version": 3
   },
   "file_extension": ".py",
   "mimetype": "text/x-python",
   "name": "python",
   "nbconvert_exporter": "python",
   "pygments_lexer": "ipython3",
   "version": "3.8.11"
  }
 },
 "nbformat": 4,
 "nbformat_minor": 5
}
