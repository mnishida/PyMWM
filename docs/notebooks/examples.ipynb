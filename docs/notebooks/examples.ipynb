{
 "cells": [
  {
   "cell_type": "code",
   "execution_count": null,
   "metadata": {
    "jupyter": {
     "outputs_hidden": true
    }
   },
   "outputs": [],
   "source": [
    "import numpy as np\n",
    "import matplotlib.pyplot as plt\n",
    "from IPython.display import display\n",
    "import pymwm\n",
    "plt.style.use('seaborn-notebook')\n",
    "plot_params = {\n",
    "    'figure.figsize': [8.0, 6.0],\n",
    "    'axes.labelsize': 'xx-large',\n",
    "    \n",
    "    'xtick.labelsize': 'xx-large',\n",
    "    'ytick.labelsize': 'xx-large',\n",
    "    'legend.fontsize': 'xx-large',\n",
    "    # 'legend.handlelength': 2.0,\n",
    "}\n",
    "plt.rcParams.update(plot_params)\n",
    "props = plt.rcParams['axes.prop_cycle']"
   ]
  },
  {
   "cell_type": "code",
   "execution_count": null,
   "metadata": {},
   "outputs": [],
   "source": [
    "wl_max = 1.0\n",
    "wl_min = 0.5\n",
    "water = {'RI': 1.333}\n",
    "params = {'core': {'shape': 'cylinder', 'size': 0.15,\n",
    "                   'fill': water},\n",
    "          'clad': {'model': 'gold_dl'},\n",
    "          'bounds': {'wl_max': wl_max, 'wl_min': wl_min,\n",
    "                     'wl_imag': 10.0},\n",
    "          'modes': {'num_n': 6, 'num_m': 2}}\n",
    "wg1 = pymwm.create(params)\n",
    "wg1.plot_beta(('E', 0, 1), \"-\", wl_max=wl_max, wl_min=wl_min, comp='real')\n",
    "wg1.plot_beta(('E', 1, 1), \"-\", wl_max=wl_max, wl_min=wl_min, comp='real')\n",
    "wg1.plot_beta(('E', 2, 1), \"-\", wl_max=wl_max, wl_min=wl_min, comp='real')\n",
    "wg1.plot_beta(('M', 0, 1), \"-\", wl_max=wl_max, wl_min=wl_min, comp='real')\n",
    "plt.show()\n",
    "wg1.plot_beta(('E', 0, 1), \"-\", wl_max=wl_max, wl_min=wl_min, comp='imag')\n",
    "wg1.plot_beta(('E', 1, 1), \"-\", wl_max=wl_max, wl_min=wl_min, comp='imag')\n",
    "wg1.plot_beta(('E', 2, 1), \"-\", wl_max=wl_max, wl_min=wl_min, comp='imag')\n",
    "wg1.plot_beta(('M', 0, 1), \"-\", wl_max=wl_max, wl_min=wl_min, comp='imag')\n",
    "plt.show()"
   ]
  },
  {
   "cell_type": "code",
   "execution_count": null,
   "metadata": {},
   "outputs": [],
   "source": [
    "wl = 0.6\n",
    "w = 2 * np.pi / wl\n",
    "wg1.plot_e_field(w, l='v', alpha=('E', 0, 1))\n",
    "wg1.plot_e_field(w, l='h', alpha=('E', 1, 1))\n",
    "wg1.plot_e_field(w, l='h', alpha=('E', 2, 1))\n",
    "wg1.plot_e_field(w, l='h', alpha=('E', 3, 1))\n",
    "wg1.plot_e_field(w, l='h', alpha=('M', 0, 1))\n",
    "wg1.plot_e_field(w, l='h', alpha=('M', 1, 1))"
   ]
  },
  {
   "cell_type": "code",
   "execution_count": null,
   "metadata": {},
   "outputs": [],
   "source": [
    "wl = 0.6\n",
    "w = 2 * np.pi / wl\n",
    "wg1.plot_h_field(w, l='v', alpha=('E', 0, 1))\n",
    "wg1.plot_h_field(w, l='h', alpha=('E', 1, 1))\n",
    "wg1.plot_h_field(w, l='h', alpha=('E', 2, 1))\n",
    "wg1.plot_h_field(w, l='h', alpha=('E', 3, 1))\n",
    "wg1.plot_h_field(w, l='h', alpha=('M', 0, 1))\n",
    "wg1.plot_h_field(w, l='h', alpha=('M', 1, 1))"
   ]
  },
  {
   "cell_type": "code",
   "execution_count": null,
   "metadata": {},
   "outputs": [],
   "source": [
    "wl = 0.6\n",
    "w = 2 * np.pi / wl\n",
    "wg1.plot_e_field_on_x_axis(w, l='h', alpha=('E', 1, 1), comp='x')\n",
    "wg1.plot_h_field_on_x_axis(w, l='h', alpha=('E', 1, 1), comp='y')"
   ]
  },
  {
   "cell_type": "code",
   "execution_count": null,
   "metadata": {},
   "outputs": [],
   "source": [
    "wl_max = 1.0\n",
    "wl_min = 0.5\n",
    "water = {'RI': 1.333}\n",
    "params = {'core': {'shape': 'slit', 'size': 0.15,\n",
    "                   'fill': water},\n",
    "          'clad': {'model': 'gold_dl'},\n",
    "          'bounds': {'wl_max': wl_max, 'wl_min': wl_min,\n",
    "                     'wl_imag': 10.0},\n",
    "          'modes': {'num_n': 6}}\n",
    "wg2 = pymwm.create(params)\n",
    "wg2.plot_beta(('E', 1, 1), \"-\", wl_max=wl_max, wl_min=wl_min, comp='real')\n",
    "wg2.plot_beta(('M', 0, 1), \"-\", wl_max=wl_max, wl_min=wl_min, comp='real')\n",
    "wg2.plot_beta(('M', 1, 1), \"-\", wl_max=wl_max, wl_min=wl_min, comp='real')\n",
    "plt.show()\n",
    "wg2.plot_beta(('E', 1, 1), \"-\", wl_max=wl_max, wl_min=wl_min, comp='imag')\n",
    "wg2.plot_beta(('M', 0, 1), \"-\", wl_max=wl_max, wl_min=wl_min, comp='imag')\n",
    "wg2.plot_beta(('M', 1, 1), \"-\", wl_max=wl_max, wl_min=wl_min, comp='imag')\n",
    "plt.show()"
   ]
  },
  {
   "cell_type": "code",
   "execution_count": null,
   "metadata": {},
   "outputs": [],
   "source": [
    "wl = 0.6\n",
    "w = 2 * np.pi / wl\n",
    "wg2.plot_e_field(w, l='v', alpha=('E', 1, 1))\n",
    "wg2.plot_e_field(w, l='h', alpha=('M', 0, 1))\n",
    "wg2.plot_e_field(w, l='h', alpha=('M', 1, 1))"
   ]
  },
  {
   "cell_type": "code",
   "execution_count": null,
   "metadata": {},
   "outputs": [],
   "source": [
    "wl = 0.6\n",
    "w = 2 * np.pi / wl\n",
    "wg2.plot_h_field(w, l='v', alpha=('E', 1, 1))\n",
    "wg2.plot_h_field(w, l='h', alpha=('M', 0, 1))\n",
    "wg2.plot_h_field(w, l='h', alpha=('M', 1, 1))"
   ]
  },
  {
   "cell_type": "code",
   "execution_count": null,
   "metadata": {},
   "outputs": [],
   "source": [
    "wl = 0.6\n",
    "w = 2 * np.pi / wl\n",
    "wg2.plot_e_field_on_x_axis(w, l='h', alpha=('M', 0, 1), comp='x')\n",
    "wg2.plot_h_field_on_x_axis(w, l='h', alpha=('M', 0, 1), comp='y')"
   ]
  },
  {
   "cell_type": "code",
   "execution_count": null,
   "metadata": {},
   "outputs": [],
   "source": []
  }
 ],
 "metadata": {
  "interpreter": {
   "hash": "767d51c1340bd893661ea55ea3124f6de3c7a262a8b4abca0554b478b1e2ff90"
  },
  "kernelspec": {
   "display_name": "Python 3.9.2 64-bit ('usr')",
   "name": "python3"
  },
  "language_info": {
   "name": "python",
   "version": ""
  }
 },
 "nbformat": 4,
 "nbformat_minor": 4
}
