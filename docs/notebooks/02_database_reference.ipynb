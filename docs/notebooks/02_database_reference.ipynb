{
 "cells": [
  {
   "cell_type": "markdown",
   "metadata": {},
   "source": [
    "# Database reference"
   ]
  },
  {
   "cell_type": "code",
   "execution_count": null,
   "metadata": {
    "jupyter": {
     "outputs_hidden": true
    },
    "tags": []
   },
   "outputs": [],
   "source": [
    "from scipy.constants import c\n",
    "import pymwm\n",
    "wl_max = 10.0\n",
    "wl_min = 1.0\n",
    "\n",
    "params = {'core': {'shape': 'cylinder', 'size': 1.0,\n",
    "                   'fill': {'RI': 1.5}},\n",
    "          'clad': {'model': 'gold_rakic', 'im_factor': 1.0},\n",
    "          'bounds': {'wl_max': wl_max, 'wl_min': wl_min,\n",
    "                     'wl_imag': 100.0},  # conditions for use\n",
    "          'modes': {'num_n': 6, 'num_m': 2, 'wl_min': 1.0, 'wl_max': 10.0,\n",
    "                    'wl_imag': 10.0, 'dw': 1.0 / 256}}  # sampling setting for database\n",
    "wg = pymwm.create(params)  # It takes hours for the first time"
   ]
  },
  {
   "cell_type": "markdown",
   "metadata": {},
   "source": [
    "## Catalog"
   ]
  },
  {
   "cell_type": "code",
   "execution_count": null,
   "metadata": {},
   "outputs": [],
   "source": [
    "database = wg.samples.database\n",
    "sn = database.get_sn()  # sample data number for the waveguide with params specified above\n",
    "catalog = database.load_catalog()\n",
    "catalog.query(f'sn >= {sn}')"
   ]
  },
  {
   "cell_type": "markdown",
   "metadata": {},
   "source": [
    "## Delete data"
   ]
  },
  {
   "cell_type": "code",
   "execution_count": null,
   "metadata": {
    "tags": []
   },
   "outputs": [],
   "source": [
    "import subprocess\n",
    "subprocess.call(\"cp ~/.pymwm/pymwm_data.h5 ~/.pymwm/pymwm_data.h5.bak\", shell=True)\n",
    "sns = catalog.query(f'sn >= {sn}')['sn']\n",
    "database.delete(sns)\n",
    "database.load()\n",
    "catalog = database.load_catalog()\n",
    "sn = database.get_sn()  # sample data number for the waveguide with params specified above\n",
    "catalog.query(f'sn >= {sn}')"
   ]
  },
  {
   "cell_type": "code",
   "execution_count": null,
   "metadata": {},
   "outputs": [],
   "source": [
    "subprocess.call(\"mv ~/.pymwm/pymwm_data.h5.bak ~/.pymwm/pymwm_data.h5\", shell=True)\n",
    "database.load()\n",
    "catalog = database.load_catalog()\n",
    "sn = database.get_sn()  # sample data number for the waveguide with params specified above\n",
    "catalog.query(f'sn >= {sn}')"
   ]
  }
 ],
 "metadata": {
  "interpreter": {
   "hash": "6685effad0b1e8f7fd4bff32a212a32a71a9b6aef2bb70b8526125982819a7c4"
  },
  "kernelspec": {
   "display_name": "Python 3.9.6 64-bit ('pymwm': venv)",
   "name": "python3"
  },
  "language_info": {
   "codemirror_mode": {
    "name": "ipython",
    "version": 3
   },
   "file_extension": ".py",
   "mimetype": "text/x-python",
   "name": "python",
   "nbconvert_exporter": "python",
   "pygments_lexer": "ipython3",
   "version": "3.9.6"
  }
 },
 "nbformat": 4,
 "nbformat_minor": 4
}
