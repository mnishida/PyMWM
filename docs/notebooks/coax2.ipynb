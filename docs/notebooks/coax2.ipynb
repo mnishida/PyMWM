{
 "cells": [
  {
   "cell_type": "code",
   "execution_count": null,
   "id": "dacb299e",
   "metadata": {},
   "outputs": [],
   "source": [
    "import numpy as np\n",
    "import pymwm\n",
    "from pymwm.coax.samples import Samples\n",
    "from pyoptmat import Material\n",
    "\n",
    "wl_max = np.pi\n",
    "wl_min = 0.6\n",
    "air = {'RI': 1.0}\n",
    "params = {'core': {'shape': 'coax', 'ri': 0.45, 'r': 0.5,\n",
    "                   'fill': air},\n",
    "          'clad': {'model': 'gold_dl'},\n",
    "          'bounds': {'wl_max': wl_max, 'wl_min': wl_min,\n",
    "                     'wl_imag': 10.0},\n",
    "          'modes': {'wl_max': wl_max, 'num_n': 6, 'num_m': 2}}\n",
    "#wg = pymwm.create(params)\n",
    "p_fill = params['core']['fill'].copy()\n",
    "p_fill['bound_check'] = False\n",
    "p_clad = params['clad'].copy()\n",
    "p_clad['bound_check'] = False\n",
    "smp = Samples(\n",
    "    params['core']['r'], Material(p_fill), Material(p_clad), params['modes'],\n",
    "    params['core']['ri'])\n",
    "\n",
    "smp.beta2_w_min(1)"
   ]
  },
  {
   "cell_type": "code",
   "execution_count": null,
   "id": "4b407502",
   "metadata": {},
   "outputs": [],
   "source": [
    "smp.clad(0.1)"
   ]
  },
  {
   "cell_type": "code",
   "execution_count": null,
   "id": "ccf94d2b",
   "metadata": {},
   "outputs": [],
   "source": []
  }
 ],
 "metadata": {
  "interpreter": {
   "hash": "a6860a8f1b193f4e3fb74fc939bad91a3802c9b41e258e3f476bc08ca9fd1882"
  },
  "kernelspec": {
   "display_name": "Python 3.8.8 64-bit ('ray': conda)",
   "name": "python3"
  },
  "language_info": {
   "codemirror_mode": {
    "name": "ipython",
    "version": 3
   },
   "file_extension": ".py",
   "mimetype": "text/x-python",
   "name": "python",
   "nbconvert_exporter": "python",
   "pygments_lexer": "ipython3",
   "version": "3.8.8"
  }
 },
 "nbformat": 4,
 "nbformat_minor": 5
}
