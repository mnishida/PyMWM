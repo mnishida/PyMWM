{
 "cells": [
  {
   "cell_type": "code",
   "execution_count": 3,
   "source": [
    "import numpy as np\n",
    "import pymwm\n",
    "from pymwm.coax.samples import Samples\n",
    "from pyoptmat import Material\n",
    "\n",
    "wl_max = np.pi\n",
    "wl_min = 0.6\n",
    "air = {'RI': 1.0}\n",
    "params = {'core': {'shape': 'coax', 'ri': 0.45, 'r': 0.5,\n",
    "                   'fill': air},\n",
    "          'clad': {'model': 'gold_dl'},\n",
    "          'bounds': {'wl_max': wl_max, 'wl_min': wl_min,\n",
    "                     'wl_imag': 10.0},\n",
    "          'modes': {'wl_max': wl_max, 'num_n': 6, 'num_m': 2}}\n",
    "#wg = pymwm.create(params)\n",
    "p_fill = params['core']['fill'].copy()\n",
    "p_fill['bound_check'] = False\n",
    "p_clad = params['clad'].copy()\n",
    "p_clad['bound_check'] = False\n",
    "smp = Samples(\n",
    "    params['core']['r'], Material(p_fill), Material(p_clad), params['modes'],\n",
    "    params['core']['ri'])\n",
    "\n",
    "smp.beta2_w_min(1)"
   ],
   "outputs": [
    {
     "output_type": "execute_result",
     "data": {
      "text/plain": [
       "(array([-3.94541419e+03-6.22020885e+00j, -1.57853687e+04-2.21989440e+01j,\n",
       "         3.04794326e+00+3.05179752e-01j, -2.84290517e+03-4.71804455e+03j]),\n",
       " [True, True, True, True])"
      ]
     },
     "metadata": {},
     "execution_count": 3
    }
   ],
   "metadata": {}
  },
  {
   "cell_type": "code",
   "execution_count": 4,
   "source": [
    "smp.clad(0.1)"
   ],
   "outputs": [
    {
     "output_type": "execute_result",
     "data": {
      "text/plain": [
       "(-16867.707998320253+58171.20916139027j)"
      ]
     },
     "metadata": {},
     "execution_count": 4
    }
   ],
   "metadata": {}
  },
  {
   "cell_type": "code",
   "execution_count": null,
   "source": [],
   "outputs": [],
   "metadata": {}
  }
 ],
 "metadata": {
  "kernelspec": {
   "name": "python3",
   "display_name": "Python 3.8.8 64-bit ('ray': conda)"
  },
  "language_info": {
   "codemirror_mode": {
    "name": "ipython",
    "version": 3
   },
   "file_extension": ".py",
   "mimetype": "text/x-python",
   "name": "python",
   "nbconvert_exporter": "python",
   "pygments_lexer": "ipython3",
   "version": "3.8.8"
  },
  "interpreter": {
   "hash": "a6860a8f1b193f4e3fb74fc939bad91a3802c9b41e258e3f476bc08ca9fd1882"
  }
 },
 "nbformat": 4,
 "nbformat_minor": 5
}